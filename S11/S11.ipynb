{
 "cells": [
  {
   "cell_type": "code",
   "execution_count": null,
   "metadata": {},
   "outputs": [],
   "source": [
    "!rm -rf .git .config/ ./* sample_data/\n",
    "!git clone https://github.com/haresh93/ERA-submissions.git .\n",
    "%cd S11/"
   ]
  },
  {
   "cell_type": "code",
   "execution_count": null,
   "metadata": {},
   "outputs": [],
   "source": [
    "!pip3 install torch\n",
    "!pip3 install torchvision\n",
    "!pip3 install matplotlib\n",
    "!pip3 install torchsummary\n",
    "!pip3 install tqdm\n",
    "!pip3 install albumentations\n",
    "!pip3 install torch_lr_finder"
   ]
  },
  {
   "cell_type": "code",
   "execution_count": null,
   "metadata": {},
   "outputs": [],
   "source": [
    "from main import get_model_summary, run_model,dataOptions\n",
    "\n",
    "get_model_summary(dataOptions.RESNET18)\n",
    "run_model(dataOptions.RESNET18)"
   ]
  }
 ],
 "metadata": {
  "language_info": {
   "name": "python"
  },
  "orig_nbformat": 4
 },
 "nbformat": 4,
 "nbformat_minor": 2
}
