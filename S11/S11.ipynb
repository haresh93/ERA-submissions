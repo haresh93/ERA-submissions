{
 "cells": [
  {
   "cell_type": "code",
   "execution_count": null,
   "metadata": {},
   "outputs": [],
   "source": [
    "!rm -rf .git .config/ ./* sample_data/\n",
    "!git clone https://github.com/haresh93/ERA-submissions.git .\n",
    "%cd S11/"
   ]
  },
  {
   "cell_type": "code",
   "execution_count": null,
   "metadata": {},
   "outputs": [],
   "source": [
    "from main import get_model_summary, run_model\n",
    "\n",
    "get_model_summary('RESNET18')\n",
    "run_model('RESNET18')"
   ]
  }
 ],
 "metadata": {
  "language_info": {
   "name": "python"
  },
  "orig_nbformat": 4
 },
 "nbformat": 4,
 "nbformat_minor": 2
}
