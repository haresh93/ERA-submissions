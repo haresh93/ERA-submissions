{
 "cells": [
  {
   "cell_type": "code",
   "execution_count": 7,
   "metadata": {},
   "outputs": [
    {
     "name": "stdout",
     "output_type": "stream",
     "text": [
      "Defaulting to user installation because normal site-packages is not writeable\n",
      "Requirement already satisfied: torch in /Users/haresh/Library/Python/3.9/lib/python/site-packages (2.0.1)\n",
      "Requirement already satisfied: sympy in /Users/haresh/Library/Python/3.9/lib/python/site-packages (from torch) (1.12)\n",
      "Requirement already satisfied: networkx in /Users/haresh/Library/Python/3.9/lib/python/site-packages (from torch) (3.1)\n",
      "Requirement already satisfied: filelock in /Users/haresh/Library/Python/3.9/lib/python/site-packages (from torch) (3.12.2)\n",
      "Requirement already satisfied: jinja2 in /Users/haresh/Library/Python/3.9/lib/python/site-packages (from torch) (3.1.2)\n",
      "Requirement already satisfied: typing-extensions in /Users/haresh/Library/Python/3.9/lib/python/site-packages (from torch) (4.6.3)\n",
      "Requirement already satisfied: MarkupSafe>=2.0 in /Users/haresh/Library/Python/3.9/lib/python/site-packages (from jinja2->torch) (2.1.3)\n",
      "Requirement already satisfied: mpmath>=0.19 in /Users/haresh/Library/Python/3.9/lib/python/site-packages (from sympy->torch) (1.3.0)\n",
      "\u001b[33mWARNING: You are using pip version 21.2.4; however, version 23.2 is available.\n",
      "You should consider upgrading via the '/Applications/Xcode.app/Contents/Developer/usr/bin/python3 -m pip install --upgrade pip' command.\u001b[0m\n",
      "Defaulting to user installation because normal site-packages is not writeable\n",
      "Requirement already satisfied: torchvision in /Users/haresh/Library/Python/3.9/lib/python/site-packages (0.15.2)\n",
      "Requirement already satisfied: numpy in /Users/haresh/Library/Python/3.9/lib/python/site-packages (from torchvision) (1.24.3)\n",
      "Requirement already satisfied: pillow!=8.3.*,>=5.3.0 in /Users/haresh/Library/Python/3.9/lib/python/site-packages (from torchvision) (9.5.0)\n",
      "Requirement already satisfied: torch==2.0.1 in /Users/haresh/Library/Python/3.9/lib/python/site-packages (from torchvision) (2.0.1)\n",
      "Requirement already satisfied: requests in /Users/haresh/Library/Python/3.9/lib/python/site-packages (from torchvision) (2.31.0)\n",
      "Requirement already satisfied: networkx in /Users/haresh/Library/Python/3.9/lib/python/site-packages (from torch==2.0.1->torchvision) (3.1)\n",
      "Requirement already satisfied: typing-extensions in /Users/haresh/Library/Python/3.9/lib/python/site-packages (from torch==2.0.1->torchvision) (4.6.3)\n",
      "Requirement already satisfied: jinja2 in /Users/haresh/Library/Python/3.9/lib/python/site-packages (from torch==2.0.1->torchvision) (3.1.2)\n",
      "Requirement already satisfied: sympy in /Users/haresh/Library/Python/3.9/lib/python/site-packages (from torch==2.0.1->torchvision) (1.12)\n",
      "Requirement already satisfied: filelock in /Users/haresh/Library/Python/3.9/lib/python/site-packages (from torch==2.0.1->torchvision) (3.12.2)\n",
      "Requirement already satisfied: MarkupSafe>=2.0 in /Users/haresh/Library/Python/3.9/lib/python/site-packages (from jinja2->torch==2.0.1->torchvision) (2.1.3)\n",
      "Requirement already satisfied: urllib3<3,>=1.21.1 in /Users/haresh/Library/Python/3.9/lib/python/site-packages (from requests->torchvision) (2.0.3)\n",
      "Requirement already satisfied: charset-normalizer<4,>=2 in /Users/haresh/Library/Python/3.9/lib/python/site-packages (from requests->torchvision) (3.1.0)\n",
      "Requirement already satisfied: certifi>=2017.4.17 in /Users/haresh/Library/Python/3.9/lib/python/site-packages (from requests->torchvision) (2023.5.7)\n",
      "Requirement already satisfied: idna<4,>=2.5 in /Users/haresh/Library/Python/3.9/lib/python/site-packages (from requests->torchvision) (3.4)\n",
      "Requirement already satisfied: mpmath>=0.19 in /Users/haresh/Library/Python/3.9/lib/python/site-packages (from sympy->torch==2.0.1->torchvision) (1.3.0)\n",
      "\u001b[33mWARNING: You are using pip version 21.2.4; however, version 23.2 is available.\n",
      "You should consider upgrading via the '/Applications/Xcode.app/Contents/Developer/usr/bin/python3 -m pip install --upgrade pip' command.\u001b[0m\n",
      "Defaulting to user installation because normal site-packages is not writeable\n",
      "Requirement already satisfied: matplotlib in /Users/haresh/Library/Python/3.9/lib/python/site-packages (3.7.1)\n",
      "Requirement already satisfied: pillow>=6.2.0 in /Users/haresh/Library/Python/3.9/lib/python/site-packages (from matplotlib) (9.5.0)\n",
      "Requirement already satisfied: pyparsing>=2.3.1 in /Users/haresh/Library/Python/3.9/lib/python/site-packages (from matplotlib) (3.0.9)\n",
      "Requirement already satisfied: packaging>=20.0 in /Users/haresh/Library/Python/3.9/lib/python/site-packages (from matplotlib) (23.1)\n",
      "Requirement already satisfied: kiwisolver>=1.0.1 in /Users/haresh/Library/Python/3.9/lib/python/site-packages (from matplotlib) (1.4.4)\n",
      "Requirement already satisfied: importlib-resources>=3.2.0 in /Users/haresh/Library/Python/3.9/lib/python/site-packages (from matplotlib) (5.12.0)\n",
      "Requirement already satisfied: python-dateutil>=2.7 in /Users/haresh/Library/Python/3.9/lib/python/site-packages (from matplotlib) (2.8.2)\n",
      "Requirement already satisfied: contourpy>=1.0.1 in /Users/haresh/Library/Python/3.9/lib/python/site-packages (from matplotlib) (1.1.0)\n",
      "Requirement already satisfied: fonttools>=4.22.0 in /Users/haresh/Library/Python/3.9/lib/python/site-packages (from matplotlib) (4.40.0)\n",
      "Requirement already satisfied: cycler>=0.10 in /Users/haresh/Library/Python/3.9/lib/python/site-packages (from matplotlib) (0.11.0)\n",
      "Requirement already satisfied: numpy>=1.20 in /Users/haresh/Library/Python/3.9/lib/python/site-packages (from matplotlib) (1.24.3)\n",
      "Requirement already satisfied: zipp>=3.1.0 in /Users/haresh/Library/Python/3.9/lib/python/site-packages (from importlib-resources>=3.2.0->matplotlib) (3.15.0)\n",
      "Requirement already satisfied: six>=1.5 in /Applications/Xcode.app/Contents/Developer/Library/Frameworks/Python3.framework/Versions/3.9/lib/python3.9/site-packages (from python-dateutil>=2.7->matplotlib) (1.15.0)\n",
      "\u001b[33mWARNING: You are using pip version 21.2.4; however, version 23.2 is available.\n",
      "You should consider upgrading via the '/Applications/Xcode.app/Contents/Developer/usr/bin/python3 -m pip install --upgrade pip' command.\u001b[0m\n",
      "Defaulting to user installation because normal site-packages is not writeable\n",
      "Requirement already satisfied: torchsummary in /Users/haresh/Library/Python/3.9/lib/python/site-packages (1.5.1)\n",
      "\u001b[33mWARNING: You are using pip version 21.2.4; however, version 23.2 is available.\n",
      "You should consider upgrading via the '/Applications/Xcode.app/Contents/Developer/usr/bin/python3 -m pip install --upgrade pip' command.\u001b[0m\n",
      "Defaulting to user installation because normal site-packages is not writeable\n",
      "Requirement already satisfied: tqdm in /Users/haresh/Library/Python/3.9/lib/python/site-packages (4.65.0)\n",
      "\u001b[33mWARNING: You are using pip version 21.2.4; however, version 23.2 is available.\n",
      "You should consider upgrading via the '/Applications/Xcode.app/Contents/Developer/usr/bin/python3 -m pip install --upgrade pip' command.\u001b[0m\n",
      "Defaulting to user installation because normal site-packages is not writeable\n",
      "\u001b[31mERROR: Could not find a version that satisfies the requirement cv2 (from versions: none)\u001b[0m\n",
      "\u001b[31mERROR: No matching distribution found for cv2\u001b[0m\n",
      "\u001b[33mWARNING: You are using pip version 21.2.4; however, version 23.2 is available.\n",
      "You should consider upgrading via the '/Applications/Xcode.app/Contents/Developer/usr/bin/python3 -m pip install --upgrade pip' command.\u001b[0m\n",
      "Defaulting to user installation because normal site-packages is not writeable\n",
      "Requirement already satisfied: albumentations in /Users/haresh/Library/Python/3.9/lib/python/site-packages (1.3.1)\n",
      "Requirement already satisfied: qudida>=0.0.4 in /Users/haresh/Library/Python/3.9/lib/python/site-packages (from albumentations) (0.0.4)\n",
      "Requirement already satisfied: numpy>=1.11.1 in /Users/haresh/Library/Python/3.9/lib/python/site-packages (from albumentations) (1.24.3)\n",
      "Requirement already satisfied: PyYAML in /Users/haresh/Library/Python/3.9/lib/python/site-packages (from albumentations) (6.0)\n",
      "Requirement already satisfied: scipy>=1.1.0 in /Users/haresh/Library/Python/3.9/lib/python/site-packages (from albumentations) (1.11.1)\n",
      "Requirement already satisfied: scikit-image>=0.16.1 in /Users/haresh/Library/Python/3.9/lib/python/site-packages (from albumentations) (0.21.0)\n",
      "Requirement already satisfied: opencv-python-headless>=4.1.1 in /Users/haresh/Library/Python/3.9/lib/python/site-packages (from albumentations) (4.8.0.74)\n",
      "Requirement already satisfied: scikit-learn>=0.19.1 in /Users/haresh/Library/Python/3.9/lib/python/site-packages (from qudida>=0.0.4->albumentations) (1.3.0)\n",
      "Requirement already satisfied: typing-extensions in /Users/haresh/Library/Python/3.9/lib/python/site-packages (from qudida>=0.0.4->albumentations) (4.6.3)\n",
      "Requirement already satisfied: pillow>=9.0.1 in /Users/haresh/Library/Python/3.9/lib/python/site-packages (from scikit-image>=0.16.1->albumentations) (9.5.0)\n",
      "Requirement already satisfied: networkx>=2.8 in /Users/haresh/Library/Python/3.9/lib/python/site-packages (from scikit-image>=0.16.1->albumentations) (3.1)\n",
      "Requirement already satisfied: lazy_loader>=0.2 in /Users/haresh/Library/Python/3.9/lib/python/site-packages (from scikit-image>=0.16.1->albumentations) (0.3)\n",
      "Requirement already satisfied: PyWavelets>=1.1.1 in /Users/haresh/Library/Python/3.9/lib/python/site-packages (from scikit-image>=0.16.1->albumentations) (1.4.1)\n",
      "Requirement already satisfied: tifffile>=2022.8.12 in /Users/haresh/Library/Python/3.9/lib/python/site-packages (from scikit-image>=0.16.1->albumentations) (2023.4.12)\n",
      "Requirement already satisfied: imageio>=2.27 in /Users/haresh/Library/Python/3.9/lib/python/site-packages (from scikit-image>=0.16.1->albumentations) (2.31.1)\n",
      "Requirement already satisfied: packaging>=21 in /Users/haresh/Library/Python/3.9/lib/python/site-packages (from scikit-image>=0.16.1->albumentations) (23.1)\n",
      "Requirement already satisfied: joblib>=1.1.1 in /Users/haresh/Library/Python/3.9/lib/python/site-packages (from scikit-learn>=0.19.1->qudida>=0.0.4->albumentations) (1.3.1)\n",
      "Requirement already satisfied: threadpoolctl>=2.0.0 in /Users/haresh/Library/Python/3.9/lib/python/site-packages (from scikit-learn>=0.19.1->qudida>=0.0.4->albumentations) (3.1.0)\n",
      "\u001b[33mWARNING: You are using pip version 21.2.4; however, version 23.2 is available.\n",
      "You should consider upgrading via the '/Applications/Xcode.app/Contents/Developer/usr/bin/python3 -m pip install --upgrade pip' command.\u001b[0m\n",
      "Defaulting to user installation because normal site-packages is not writeable\n",
      "Collecting torch_lr_finder\n",
      "  Downloading torch_lr_finder-0.2.1-py3-none-any.whl (11 kB)\n",
      "Requirement already satisfied: packaging in /Users/haresh/Library/Python/3.9/lib/python/site-packages (from torch_lr_finder) (23.1)\n",
      "Requirement already satisfied: tqdm in /Users/haresh/Library/Python/3.9/lib/python/site-packages (from torch_lr_finder) (4.65.0)\n",
      "Requirement already satisfied: numpy in /Users/haresh/Library/Python/3.9/lib/python/site-packages (from torch_lr_finder) (1.24.3)\n",
      "Requirement already satisfied: torch>=0.4.1 in /Users/haresh/Library/Python/3.9/lib/python/site-packages (from torch_lr_finder) (2.0.1)\n",
      "Requirement already satisfied: matplotlib in /Users/haresh/Library/Python/3.9/lib/python/site-packages (from torch_lr_finder) (3.7.1)\n",
      "Requirement already satisfied: sympy in /Users/haresh/Library/Python/3.9/lib/python/site-packages (from torch>=0.4.1->torch_lr_finder) (1.12)\n",
      "Requirement already satisfied: networkx in /Users/haresh/Library/Python/3.9/lib/python/site-packages (from torch>=0.4.1->torch_lr_finder) (3.1)\n",
      "Requirement already satisfied: jinja2 in /Users/haresh/Library/Python/3.9/lib/python/site-packages (from torch>=0.4.1->torch_lr_finder) (3.1.2)\n",
      "Requirement already satisfied: typing-extensions in /Users/haresh/Library/Python/3.9/lib/python/site-packages (from torch>=0.4.1->torch_lr_finder) (4.6.3)\n",
      "Requirement already satisfied: filelock in /Users/haresh/Library/Python/3.9/lib/python/site-packages (from torch>=0.4.1->torch_lr_finder) (3.12.2)\n",
      "Requirement already satisfied: MarkupSafe>=2.0 in /Users/haresh/Library/Python/3.9/lib/python/site-packages (from jinja2->torch>=0.4.1->torch_lr_finder) (2.1.3)\n",
      "Requirement already satisfied: kiwisolver>=1.0.1 in /Users/haresh/Library/Python/3.9/lib/python/site-packages (from matplotlib->torch_lr_finder) (1.4.4)\n",
      "Requirement already satisfied: cycler>=0.10 in /Users/haresh/Library/Python/3.9/lib/python/site-packages (from matplotlib->torch_lr_finder) (0.11.0)\n",
      "Requirement already satisfied: importlib-resources>=3.2.0 in /Users/haresh/Library/Python/3.9/lib/python/site-packages (from matplotlib->torch_lr_finder) (5.12.0)\n",
      "Requirement already satisfied: fonttools>=4.22.0 in /Users/haresh/Library/Python/3.9/lib/python/site-packages (from matplotlib->torch_lr_finder) (4.40.0)\n",
      "Requirement already satisfied: pyparsing>=2.3.1 in /Users/haresh/Library/Python/3.9/lib/python/site-packages (from matplotlib->torch_lr_finder) (3.0.9)\n",
      "Requirement already satisfied: pillow>=6.2.0 in /Users/haresh/Library/Python/3.9/lib/python/site-packages (from matplotlib->torch_lr_finder) (9.5.0)\n",
      "Requirement already satisfied: python-dateutil>=2.7 in /Users/haresh/Library/Python/3.9/lib/python/site-packages (from matplotlib->torch_lr_finder) (2.8.2)\n",
      "Requirement already satisfied: contourpy>=1.0.1 in /Users/haresh/Library/Python/3.9/lib/python/site-packages (from matplotlib->torch_lr_finder) (1.1.0)\n",
      "Requirement already satisfied: zipp>=3.1.0 in /Users/haresh/Library/Python/3.9/lib/python/site-packages (from importlib-resources>=3.2.0->matplotlib->torch_lr_finder) (3.15.0)\n",
      "Requirement already satisfied: six>=1.5 in /Applications/Xcode.app/Contents/Developer/Library/Frameworks/Python3.framework/Versions/3.9/lib/python3.9/site-packages (from python-dateutil>=2.7->matplotlib->torch_lr_finder) (1.15.0)\n",
      "Requirement already satisfied: mpmath>=0.19 in /Users/haresh/Library/Python/3.9/lib/python/site-packages (from sympy->torch>=0.4.1->torch_lr_finder) (1.3.0)\n",
      "Installing collected packages: torch-lr-finder\n",
      "Successfully installed torch-lr-finder-0.2.1\n",
      "\u001b[33mWARNING: You are using pip version 21.2.4; however, version 23.2 is available.\n",
      "You should consider upgrading via the '/Applications/Xcode.app/Contents/Developer/usr/bin/python3 -m pip install --upgrade pip' command.\u001b[0m\n"
     ]
    }
   ],
   "source": [
    "!pip3 install torch\n",
    "!pip3 install torchvision\n",
    "!pip3 install matplotlib\n",
    "!pip3 install torchsummary\n",
    "!pip3 install tqdm\n",
    "!pip3 install cv2\n",
    "!pip3 install albumentations\n",
    "!pip3 install torch_lr_finder"
   ]
  },
  {
   "cell_type": "code",
   "execution_count": 8,
   "metadata": {},
   "outputs": [],
   "source": [
    "import torch\n",
    "import torch.nn as nn\n",
    "import torch.nn.functional as F\n",
    "import torch.optim as optim\n",
    "from torchvision import datasets, transforms\n",
    "import albumentations as A\n",
    "from albumentations.pytorch import ToTensorV2"
   ]
  },
  {
   "cell_type": "code",
   "execution_count": 9,
   "metadata": {},
   "outputs": [
    {
     "name": "stdout",
     "output_type": "stream",
     "text": [
      "Cuda Available:  False\n"
     ]
    }
   ],
   "source": [
    "cuda = torch.cuda.is_available()\n",
    "print(\"Cuda Available: \", cuda)\n",
    "\n",
    "device = torch.device(\"cuda\" if cuda else \"cpu\")"
   ]
  },
  {
   "cell_type": "code",
   "execution_count": 10,
   "metadata": {},
   "outputs": [],
   "source": [
    "# Train and Test Transforms\n",
    "train_transforms = A.Compose([\n",
    "        A.RandomCrop(width=32, height=32),\n",
    "        A.HorizontalFlip(p=0.5),\n",
    "        A.CoarseDropout(max_holes = 1, max_height=8, max_width=8,\n",
    "                       min_holes = 1, min_height=8, min_width=8, fill_value=(0.4914, 0.4822, 0.4465), mask_fill_value = None),\n",
    "        A.Normalize( (0.4914, 0.4822, 0.4465), (0.2023, 0.1994, 0.2010)),\n",
    "        ToTensorV2(),\n",
    "])\n",
    "\n",
    "test_transforms = transforms.Compose([\n",
    "                                      A.Normalize( (0.4914, 0.4822, 0.4465), (0.2023, 0.1994, 0.2010)),\n",
    "                                      ToTensorV2(),\n",
    "])"
   ]
  },
  {
   "cell_type": "code",
   "execution_count": 11,
   "metadata": {},
   "outputs": [
    {
     "name": "stdout",
     "output_type": "stream",
     "text": [
      "Files already downloaded and verified\n",
      "Files already downloaded and verified\n"
     ]
    }
   ],
   "source": [
    "# Train and Test Datasets\n",
    "train_dataset = datasets.CIFAR10('~/data/CIFAR10', train=True, download=True,\n",
    "                    transform=train_transforms)\n",
    "test_dataset = datasets.CIFAR10('~/data/CIFAR10', train=False, download=True,\n",
    "                    transform=test_transforms)"
   ]
  },
  {
   "cell_type": "code",
   "execution_count": 12,
   "metadata": {},
   "outputs": [],
   "source": [
    "dataloader_args = dict(shuffle = True, batch_size = 512, num_workers = 4, pin_memory = True)\n",
    "\n",
    "train_dataloader = torch.utils.data.DataLoader(train_dataset, **dataloader_args)\n",
    "\n",
    "test_dataloader = torch.utils.data.DataLoader(test_dataset, **dataloader_args)"
   ]
  },
  {
   "cell_type": "code",
   "execution_count": 13,
   "metadata": {},
   "outputs": [
    {
     "name": "stdout",
     "output_type": "stream",
     "text": [
      "----------------------------------------------------------------\n",
      "        Layer (type)               Output Shape         Param #\n",
      "================================================================\n",
      "            Conv2d-1           [-1, 64, 32, 32]           1,792\n",
      "       BatchNorm2d-2           [-1, 64, 32, 32]             128\n",
      "              ReLU-3           [-1, 64, 32, 32]               0\n",
      "            Conv2d-4          [-1, 128, 32, 32]          73,856\n",
      "         MaxPool2d-5          [-1, 128, 16, 16]               0\n",
      "       BatchNorm2d-6          [-1, 128, 16, 16]             256\n",
      "              ReLU-7          [-1, 128, 16, 16]               0\n",
      "            Conv2d-8          [-1, 128, 16, 16]         147,584\n",
      "       BatchNorm2d-9          [-1, 128, 16, 16]             256\n",
      "             ReLU-10          [-1, 128, 16, 16]               0\n",
      "           Conv2d-11          [-1, 128, 16, 16]         147,584\n",
      "      BatchNorm2d-12          [-1, 128, 16, 16]             256\n",
      "             ReLU-13          [-1, 128, 16, 16]               0\n",
      "           Conv2d-14          [-1, 256, 16, 16]         295,168\n",
      "        MaxPool2d-15            [-1, 256, 8, 8]               0\n",
      "      BatchNorm2d-16            [-1, 256, 8, 8]             512\n",
      "             ReLU-17            [-1, 256, 8, 8]               0\n",
      "           Conv2d-18            [-1, 512, 8, 8]       1,180,160\n",
      "        MaxPool2d-19            [-1, 512, 4, 4]               0\n",
      "      BatchNorm2d-20            [-1, 512, 4, 4]           1,024\n",
      "             ReLU-21            [-1, 512, 4, 4]               0\n",
      "           Conv2d-22            [-1, 512, 4, 4]       2,359,808\n",
      "      BatchNorm2d-23            [-1, 512, 4, 4]           1,024\n",
      "             ReLU-24            [-1, 512, 4, 4]               0\n",
      "           Conv2d-25            [-1, 512, 4, 4]       2,359,808\n",
      "      BatchNorm2d-26            [-1, 512, 4, 4]           1,024\n",
      "             ReLU-27            [-1, 512, 4, 4]               0\n",
      "        MaxPool2d-28            [-1, 512, 1, 1]               0\n",
      "           Linear-29                   [-1, 10]           5,130\n",
      "================================================================\n",
      "Total params: 6,575,370\n",
      "Trainable params: 6,575,370\n",
      "Non-trainable params: 0\n",
      "----------------------------------------------------------------\n",
      "Input size (MB): 0.01\n",
      "Forward/backward pass size (MB): 6.44\n",
      "Params size (MB): 25.08\n",
      "Estimated Total Size (MB): 31.54\n",
      "----------------------------------------------------------------\n"
     ]
    }
   ],
   "source": [
    "from custom_resnet import model_summary, Net\n",
    "\n",
    "use_cuda = torch.cuda.is_available()\n",
    "device = torch.device(\"cuda\" if use_cuda else \"cpu\")\n",
    "model = Net().to(device)\n",
    "\n",
    "model_summary(model, input_size=(3, 32, 32))"
   ]
  },
  {
   "cell_type": "code",
   "execution_count": 14,
   "metadata": {},
   "outputs": [
    {
     "name": "stderr",
     "output_type": "stream",
     "text": [
      "/Users/haresh/Library/Python/3.9/lib/python/site-packages/torch_lr_finder/lr_finder.py:5: TqdmWarning: IProgress not found. Please update jupyter and ipywidgets. See https://ipywidgets.readthedocs.io/en/stable/user_install.html\n",
      "  from tqdm.autonotebook import tqdm\n"
     ]
    },
    {
     "ename": "AssertionError",
     "evalue": "Torch not compiled with CUDA enabled",
     "output_type": "error",
     "traceback": [
      "\u001b[0;31m---------------------------------------------------------------------------\u001b[0m",
      "\u001b[0;31mAssertionError\u001b[0m                            Traceback (most recent call last)",
      "Cell \u001b[0;32mIn[14], line 7\u001b[0m\n\u001b[1;32m      5\u001b[0m criterion \u001b[39m=\u001b[39m nn\u001b[39m.\u001b[39mCrossEntropyLoss()\n\u001b[1;32m      6\u001b[0m lr_finder \u001b[39m=\u001b[39m LRFinder(model, optimizer, criterion, device \u001b[39m=\u001b[39m \u001b[39m'\u001b[39m\u001b[39mcuda\u001b[39m\u001b[39m'\u001b[39m)\n\u001b[0;32m----> 7\u001b[0m lr_finder\u001b[39m.\u001b[39;49mrange_test(train_dataloader, end_lr \u001b[39m=\u001b[39;49m \u001b[39m10\u001b[39;49m, num_iter \u001b[39m=\u001b[39;49m \u001b[39m200\u001b[39;49m, step_mode \u001b[39m=\u001b[39;49m \u001b[39m\"\u001b[39;49m\u001b[39mexp\u001b[39;49m\u001b[39m\"\u001b[39;49m)\n\u001b[1;32m      8\u001b[0m lr_finder\u001b[39m.\u001b[39mplot()\n\u001b[1;32m      9\u001b[0m lr_finder\u001b[39m.\u001b[39mreset()\n",
      "File \u001b[0;32m~/Library/Python/3.9/lib/python/site-packages/torch_lr_finder/lr_finder.py:271\u001b[0m, in \u001b[0;36mLRFinder.range_test\u001b[0;34m(self, train_loader, val_loader, start_lr, end_lr, num_iter, step_mode, smooth_f, diverge_th, accumulation_steps, non_blocking_transfer)\u001b[0m\n\u001b[1;32m    268\u001b[0m \u001b[39mself\u001b[39m\u001b[39m.\u001b[39mbest_loss \u001b[39m=\u001b[39m \u001b[39mNone\u001b[39;00m\n\u001b[1;32m    270\u001b[0m \u001b[39m# Move the model to the proper device\u001b[39;00m\n\u001b[0;32m--> 271\u001b[0m \u001b[39mself\u001b[39;49m\u001b[39m.\u001b[39;49mmodel\u001b[39m.\u001b[39;49mto(\u001b[39mself\u001b[39;49m\u001b[39m.\u001b[39;49mdevice)\n\u001b[1;32m    273\u001b[0m \u001b[39m# Check if the optimizer is already attached to a scheduler\u001b[39;00m\n\u001b[1;32m    274\u001b[0m \u001b[39mself\u001b[39m\u001b[39m.\u001b[39m_check_for_scheduler()\n",
      "File \u001b[0;32m~/Library/Python/3.9/lib/python/site-packages/torch/nn/modules/module.py:1145\u001b[0m, in \u001b[0;36mModule.to\u001b[0;34m(self, *args, **kwargs)\u001b[0m\n\u001b[1;32m   1141\u001b[0m         \u001b[39mreturn\u001b[39;00m t\u001b[39m.\u001b[39mto(device, dtype \u001b[39mif\u001b[39;00m t\u001b[39m.\u001b[39mis_floating_point() \u001b[39mor\u001b[39;00m t\u001b[39m.\u001b[39mis_complex() \u001b[39melse\u001b[39;00m \u001b[39mNone\u001b[39;00m,\n\u001b[1;32m   1142\u001b[0m                     non_blocking, memory_format\u001b[39m=\u001b[39mconvert_to_format)\n\u001b[1;32m   1143\u001b[0m     \u001b[39mreturn\u001b[39;00m t\u001b[39m.\u001b[39mto(device, dtype \u001b[39mif\u001b[39;00m t\u001b[39m.\u001b[39mis_floating_point() \u001b[39mor\u001b[39;00m t\u001b[39m.\u001b[39mis_complex() \u001b[39melse\u001b[39;00m \u001b[39mNone\u001b[39;00m, non_blocking)\n\u001b[0;32m-> 1145\u001b[0m \u001b[39mreturn\u001b[39;00m \u001b[39mself\u001b[39;49m\u001b[39m.\u001b[39;49m_apply(convert)\n",
      "File \u001b[0;32m~/Library/Python/3.9/lib/python/site-packages/torch/nn/modules/module.py:797\u001b[0m, in \u001b[0;36mModule._apply\u001b[0;34m(self, fn)\u001b[0m\n\u001b[1;32m    795\u001b[0m \u001b[39mdef\u001b[39;00m \u001b[39m_apply\u001b[39m(\u001b[39mself\u001b[39m, fn):\n\u001b[1;32m    796\u001b[0m     \u001b[39mfor\u001b[39;00m module \u001b[39min\u001b[39;00m \u001b[39mself\u001b[39m\u001b[39m.\u001b[39mchildren():\n\u001b[0;32m--> 797\u001b[0m         module\u001b[39m.\u001b[39;49m_apply(fn)\n\u001b[1;32m    799\u001b[0m     \u001b[39mdef\u001b[39;00m \u001b[39mcompute_should_use_set_data\u001b[39m(tensor, tensor_applied):\n\u001b[1;32m    800\u001b[0m         \u001b[39mif\u001b[39;00m torch\u001b[39m.\u001b[39m_has_compatible_shallow_copy_type(tensor, tensor_applied):\n\u001b[1;32m    801\u001b[0m             \u001b[39m# If the new tensor has compatible tensor type as the existing tensor,\u001b[39;00m\n\u001b[1;32m    802\u001b[0m             \u001b[39m# the current behavior is to change the tensor in-place using `.data =`,\u001b[39;00m\n\u001b[0;32m   (...)\u001b[0m\n\u001b[1;32m    807\u001b[0m             \u001b[39m# global flag to let the user control whether they want the future\u001b[39;00m\n\u001b[1;32m    808\u001b[0m             \u001b[39m# behavior of overwriting the existing tensor or not.\u001b[39;00m\n",
      "File \u001b[0;32m~/Library/Python/3.9/lib/python/site-packages/torch/nn/modules/module.py:797\u001b[0m, in \u001b[0;36mModule._apply\u001b[0;34m(self, fn)\u001b[0m\n\u001b[1;32m    795\u001b[0m \u001b[39mdef\u001b[39;00m \u001b[39m_apply\u001b[39m(\u001b[39mself\u001b[39m, fn):\n\u001b[1;32m    796\u001b[0m     \u001b[39mfor\u001b[39;00m module \u001b[39min\u001b[39;00m \u001b[39mself\u001b[39m\u001b[39m.\u001b[39mchildren():\n\u001b[0;32m--> 797\u001b[0m         module\u001b[39m.\u001b[39;49m_apply(fn)\n\u001b[1;32m    799\u001b[0m     \u001b[39mdef\u001b[39;00m \u001b[39mcompute_should_use_set_data\u001b[39m(tensor, tensor_applied):\n\u001b[1;32m    800\u001b[0m         \u001b[39mif\u001b[39;00m torch\u001b[39m.\u001b[39m_has_compatible_shallow_copy_type(tensor, tensor_applied):\n\u001b[1;32m    801\u001b[0m             \u001b[39m# If the new tensor has compatible tensor type as the existing tensor,\u001b[39;00m\n\u001b[1;32m    802\u001b[0m             \u001b[39m# the current behavior is to change the tensor in-place using `.data =`,\u001b[39;00m\n\u001b[0;32m   (...)\u001b[0m\n\u001b[1;32m    807\u001b[0m             \u001b[39m# global flag to let the user control whether they want the future\u001b[39;00m\n\u001b[1;32m    808\u001b[0m             \u001b[39m# behavior of overwriting the existing tensor or not.\u001b[39;00m\n",
      "File \u001b[0;32m~/Library/Python/3.9/lib/python/site-packages/torch/nn/modules/module.py:820\u001b[0m, in \u001b[0;36mModule._apply\u001b[0;34m(self, fn)\u001b[0m\n\u001b[1;32m    816\u001b[0m \u001b[39m# Tensors stored in modules are graph leaves, and we don't want to\u001b[39;00m\n\u001b[1;32m    817\u001b[0m \u001b[39m# track autograd history of `param_applied`, so we have to use\u001b[39;00m\n\u001b[1;32m    818\u001b[0m \u001b[39m# `with torch.no_grad():`\u001b[39;00m\n\u001b[1;32m    819\u001b[0m \u001b[39mwith\u001b[39;00m torch\u001b[39m.\u001b[39mno_grad():\n\u001b[0;32m--> 820\u001b[0m     param_applied \u001b[39m=\u001b[39m fn(param)\n\u001b[1;32m    821\u001b[0m should_use_set_data \u001b[39m=\u001b[39m compute_should_use_set_data(param, param_applied)\n\u001b[1;32m    822\u001b[0m \u001b[39mif\u001b[39;00m should_use_set_data:\n",
      "File \u001b[0;32m~/Library/Python/3.9/lib/python/site-packages/torch/nn/modules/module.py:1143\u001b[0m, in \u001b[0;36mModule.to.<locals>.convert\u001b[0;34m(t)\u001b[0m\n\u001b[1;32m   1140\u001b[0m \u001b[39mif\u001b[39;00m convert_to_format \u001b[39mis\u001b[39;00m \u001b[39mnot\u001b[39;00m \u001b[39mNone\u001b[39;00m \u001b[39mand\u001b[39;00m t\u001b[39m.\u001b[39mdim() \u001b[39min\u001b[39;00m (\u001b[39m4\u001b[39m, \u001b[39m5\u001b[39m):\n\u001b[1;32m   1141\u001b[0m     \u001b[39mreturn\u001b[39;00m t\u001b[39m.\u001b[39mto(device, dtype \u001b[39mif\u001b[39;00m t\u001b[39m.\u001b[39mis_floating_point() \u001b[39mor\u001b[39;00m t\u001b[39m.\u001b[39mis_complex() \u001b[39melse\u001b[39;00m \u001b[39mNone\u001b[39;00m,\n\u001b[1;32m   1142\u001b[0m                 non_blocking, memory_format\u001b[39m=\u001b[39mconvert_to_format)\n\u001b[0;32m-> 1143\u001b[0m \u001b[39mreturn\u001b[39;00m t\u001b[39m.\u001b[39;49mto(device, dtype \u001b[39mif\u001b[39;49;00m t\u001b[39m.\u001b[39;49mis_floating_point() \u001b[39mor\u001b[39;49;00m t\u001b[39m.\u001b[39;49mis_complex() \u001b[39melse\u001b[39;49;00m \u001b[39mNone\u001b[39;49;00m, non_blocking)\n",
      "File \u001b[0;32m~/Library/Python/3.9/lib/python/site-packages/torch/cuda/__init__.py:239\u001b[0m, in \u001b[0;36m_lazy_init\u001b[0;34m()\u001b[0m\n\u001b[1;32m    235\u001b[0m     \u001b[39mraise\u001b[39;00m \u001b[39mRuntimeError\u001b[39;00m(\n\u001b[1;32m    236\u001b[0m         \u001b[39m\"\u001b[39m\u001b[39mCannot re-initialize CUDA in forked subprocess. To use CUDA with \u001b[39m\u001b[39m\"\u001b[39m\n\u001b[1;32m    237\u001b[0m         \u001b[39m\"\u001b[39m\u001b[39mmultiprocessing, you must use the \u001b[39m\u001b[39m'\u001b[39m\u001b[39mspawn\u001b[39m\u001b[39m'\u001b[39m\u001b[39m start method\u001b[39m\u001b[39m\"\u001b[39m)\n\u001b[1;32m    238\u001b[0m \u001b[39mif\u001b[39;00m \u001b[39mnot\u001b[39;00m \u001b[39mhasattr\u001b[39m(torch\u001b[39m.\u001b[39m_C, \u001b[39m'\u001b[39m\u001b[39m_cuda_getDeviceCount\u001b[39m\u001b[39m'\u001b[39m):\n\u001b[0;32m--> 239\u001b[0m     \u001b[39mraise\u001b[39;00m \u001b[39mAssertionError\u001b[39;00m(\u001b[39m\"\u001b[39m\u001b[39mTorch not compiled with CUDA enabled\u001b[39m\u001b[39m\"\u001b[39m)\n\u001b[1;32m    240\u001b[0m \u001b[39mif\u001b[39;00m _cudart \u001b[39mis\u001b[39;00m \u001b[39mNone\u001b[39;00m:\n\u001b[1;32m    241\u001b[0m     \u001b[39mraise\u001b[39;00m \u001b[39mAssertionError\u001b[39;00m(\n\u001b[1;32m    242\u001b[0m         \u001b[39m\"\u001b[39m\u001b[39mlibcudart functions unavailable. It looks like you have a broken build?\u001b[39m\u001b[39m\"\u001b[39m)\n",
      "\u001b[0;31mAssertionError\u001b[0m: Torch not compiled with CUDA enabled"
     ]
    }
   ],
   "source": [
    "from torch_lr_finder import LRFinder\n",
    "\n",
    "model = Net().to(device)\n",
    "optimizer = optim.Adam(model.parameters(), lr=0.03, weight_decay = 0.0001)\n",
    "criterion = nn.CrossEntropyLoss()\n",
    "lr_finder = LRFinder(model, optimizer, criterion, device = 'cuda')\n",
    "lr_finder.range_test(train_dataloader, end_lr = 10, num_iter = 200, step_mode = \"exp\")\n",
    "lr_finder.plot()\n",
    "lr_finder.reset()"
   ]
  },
  {
   "cell_type": "code",
   "execution_count": null,
   "metadata": {},
   "outputs": [],
   "source": [
    "from torch.optim.lr_scheduler import OneCycleLR\n",
    "from train import model_train, model_test\n",
    "\n",
    "EPOCHS = 24\n",
    "\n",
    "scheduler = OneCycleLR(\n",
    "    optimizer,\n",
    "    max_lr = 0.0465,\n",
    "    steps_per_epoch=len(train_dataloader),\n",
    "    epochs = EPOCHS,\n",
    "    pct_start = 5/EPOCHS,\n",
    "    div_factor=100,\n",
    "    three_phase = False,\n",
    "    final_div_factor=100,\n",
    "    anneal_strategy='linear'\n",
    ")\n",
    "\n",
    "for epoch in range(EPOCHS):\n",
    "    print(\"EPOCH:\", epoch)\n",
    "    model_train(model, device, train_dataloader, optimizer, scheduler, criterion, epoch)\n",
    "    model_test(model, device, test_dataloader, criterion)"
   ]
  }
 ],
 "metadata": {
  "kernelspec": {
   "display_name": "Python 3",
   "language": "python",
   "name": "python3"
  },
  "language_info": {
   "codemirror_mode": {
    "name": "ipython",
    "version": 3
   },
   "file_extension": ".py",
   "mimetype": "text/x-python",
   "name": "python",
   "nbconvert_exporter": "python",
   "pygments_lexer": "ipython3",
   "version": "3.9.6"
  },
  "orig_nbformat": 4
 },
 "nbformat": 4,
 "nbformat_minor": 2
}
